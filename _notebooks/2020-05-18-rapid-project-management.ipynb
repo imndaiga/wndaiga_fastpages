{
 "cells": [
  {
   "cell_type": "markdown",
   "metadata": {},
   "source": [
    "# Developing A Rapid Project Management Workflow\n",
    "> How to set up SMART goals for your personal projects.\n",
    "\n",
    "- categories: [SMART,project management]\n",
    "- hide: false\n",
    "- toc: true"
   ]
  },
  {
   "cell_type": "markdown",
   "metadata": {},
   "source": [
    "When thinking about designing and developing a project, defining a **goal or set of goals** is very important to do and something you want to get right early on. This definition of 'right' varies from person to person and team to team, but a good place to start would be to consider [SMART](https://www.mindtools.com/pages/article/smart-goals.htm) goal setting. If you aren't familiar with this framework, it is a mnemonic for the following:"
   ]
  },
  {
   "cell_type": "markdown",
   "metadata": {},
   "source": [
    "<table class=\"float-table\">\n",
    "    <tbody>\n",
    "        <tr>\n",
    "            <td class=\"float-table-title\"><span class=\"keychar\">S</span>pecific</td>\n",
    "            <td class=\"float-table-description\">Simple, Sensible and Significant</td>\n",
    "        </tr>\n",
    "        <tr>\n",
    "            <td class=\"float-table-title\"><span class=\"keychar\">M</span>easurable</td>\n",
    "            <td class=\"float-table-description\">Meaningful and Motivating</td>\n",
    "        </tr>\n",
    "        <tr>\n",
    "            <td class=\"float-table-title\"><span class=\"keychar\">A</span>chievable</td>\n",
    "            <td class=\"float-table-description\">Agreed and Attainable</td>\n",
    "        </tr>\n",
    "        <tr>\n",
    "            <td class=\"float-table-title\"><span class=\"keychar\">R</span>elevant</td>\n",
    "            <td class=\"float-table-description\">Reasonable, Realistic, Resourced and Results-based</td>\n",
    "        </tr>\n",
    "        <tr>\n",
    "            <td class=\"float-table-title\"><span class=\"keychar\">T</span>ime bound</td>\n",
    "            <td class=\"float-table-description\">Time-based, Time/Cost limited, Timely and Time-sensitive</td>\n",
    "        </tr>\n",
    "    </tbody>\n",
    "</table>"
   ]
  },
  {
   "cell_type": "markdown",
   "metadata": {},
   "source": [
    "The above can be achieved in a myriad of ways for an equally varied number of project scales. If you have heard of **agile software development**, you will recognize that it too is a methodology designed to both formulate, achieve and improve upon SMART goals through enhanced team communication and practices. There is however a particular gap in how well agile workflows such as [scrum](https://www.scrumguides.org/index.html) adapt to small project scales, both in team size and project scope.\n",
    "\n",
    "Small project scales go by many names; *pet-project*, *side-project*, *hackathon project*, *school project*, *proof of concept*, *side-hustle* e.t.c.. For every one of these that I've undertaken in the past 7 years, one thing that I've consistently wondered is how to best maximise their **utility**, which much like the often used word **impact** can be rather dubious to decipher. While the spirit of the two words seemingly overlap, they do have one distinctive difference. This is that the word utility has a storied and entrenched history of examination rooted in philosophy whereas impact remains a largely subjective metric with varied connotations depending on the context of its use. Suffice it to say, grounding a framework on a rigorously tested and widely accepted metric such as utility can and generally should confer confidence when evaluating the results of a subjected measurand. For example, I would feel very confident in the results obtained from using a centimeter-scale ruler to measure the length of my forearm vs a drinking glass. In the case of the glass, I would have to worry about which type of drinking glass and which of its dimensions to use to measure my forearm. The same cannot be said for the ruler because its units are consistent and use agreed upon.\n",
    "\n",
    "The rapid project management workflow is a proposal for a small-scale project framework based on a defintion of utility described by [Jeremy Bentham (1748 - 1832)](https://en.wikipedia.org/wiki/Jeremy_Bentham):\n",
    "\n",
    "> **Utility** is that property in any object which tends to produce benefit, advantage, good or happiness\n",
    "\n",
    "The above definition of utility is further refined by the Bentham's **Utility Principle** below\n",
    "\n",
    "> **The utility principle** is that which approves or disapproves of every action whatsoever, according to the tendency which it appears to have to augment or diminish the happiness of the party whose interest is in question\n",
    "\n",
    "These definitions may come across as abvious to some and possibly superfluous to others. However, having them precisely codified in this way provides a solid foundation upon which to build. A philosophical exploration of utility will be reserved for future work. \n",
    "\n",
    "Ultimately, the goal of the Rapid Project Management Workflow is to provide a safety net for small project scale endeavours by enhancing their longevity/posterity. In RPM, we define enhancing posterity as maximising the projects benefit to the most number of people **for the longest period of time**."
   ]
  },
  {
   "cell_type": "markdown",
   "metadata": {},
   "source": [
    "# Introduction\n",
    "\n",
    "## Project Pillars\n",
    "- **Why** am I building this project and why does it matter?\n",
    "- **Who** am I building this project for and would they care?\n",
    "- **How** will I build this project and how efficiently can this be done?\n",
    "- **Where** will this project be used; is it a physical space, a website e.t.c.?\n",
    "- **What** will be gained from having built this project once complete?\n",
    "- **When** will this project be complete?\n",
    "\n",
    "It's clear that our Project Pillars a largely questions that we must answer. How we answer them is equally as important as having them. We do this by first defining a **Project Statement**; a short phrase/sentence that describes the author's motivations for attending to the project. Having this will help clarify and rank order our **Project Pillars** into our **Project Criteria**.\n",
    "\n",
    "Actually getting these right is another thing and process entirely, but having them earmarked in good time definitely puts you on the right path. To better ground this post in reality, I'll use the example of a project I was working on while writing this post ([blog]({% post_url 2020-05-17-background-segmentation %})). In that project (`Using Object Segmentation for Image Background Subtraction`), I was inspired into action by a problem I found a interesting and effectively surmountable; `How could I stylize a personal photo with varied effects`. Given this problem, how would you then construct your project statement?\n",
    "\n",
    "Well ..."
   ]
  },
  {
   "cell_type": "markdown",
   "metadata": {},
   "source": [
    "> For all intents and purposes, your project title should serve as your project statement."
   ]
  },
  {
   "cell_type": "markdown",
   "metadata": {},
   "source": [
    "A project statement must be clear, concise and critical and so it would be crucial that your project title reflect this before it could serve as a project statement. The distinction between project title and statement is necessary since a title can sometimes encompass more scope than can/should be captured by your statement e.g. when the end goal is not well defined such as in exploratory work.\n",
    "\n",
    "The great thing about a project statement is that it can quickly and effectively resolve your project goals while pointing out a project's gaps and shortcomings too. This latter point is rather important because your trail of recorded thought can then be reviewed and interrogated by others who may come upon your work. If you have scientific training of any sort, you might recognize the project statement's basis in the **Scientific Hypothesis**!; a cornerstone of modern epistemology where we predetermine our goal of exploration. However, that's a far as the similarities go because a Hypothesis exercises a lot more foundational robustness e.g. *Theory of Falsifiability*.\n",
    "\n",
    "## Project Criteria\n",
    "\n",
    "Resolving our project goals involves descriptively analysing our project statement to better itemise and rank our pillars, the output of which will be our **Project Criteria** table. Having this can be especially powerful because it allows us to prioritise our work towards meeting both our user requirements and developer bandwidth. If you have worked on a team or client-facing project, I am sure you can relate to scoping issues and overruns arising midway through a project. This can be a gut-wrenching process where you'll need as much project navigational tooling as you have available to recover/salvage the situation.\n",
    "\n",
    "> Using Object Segmentation for Image Background Subtraction.\n",
    "\n",
    "Given my project title above, we can see that it meets our 3 C's (clear, concise and critical). This means we can go ahead and use it as our project statement. Below are the project pillars ranked and refined into our project criteria."
   ]
  },
  {
   "cell_type": "markdown",
   "metadata": {},
   "source": [
    "<table class=\"project-criteria-table\">\n",
    "    <thead>\n",
    "        <tr>\n",
    "            <th>Pillar</th>\n",
    "            <th>Rank</th>\n",
    "            <th>Description</th>\n",
    "        </tr>\n",
    "    </thead>\n",
    "    <tbody>\n",
    "        <tr class=\"row-1\">\n",
    "            <td><strong>When</strong></td>\n",
    "            <td>1</td>\n",
    "            <td>By the end of the week (Fri 22nd 2020)</td>\n",
    "        </tr>\n",
    "        <tr class=\"row-2\">\n",
    "            <td><strong>Who</strong></td>\n",
    "            <td>2</td>\n",
    "            <td>Computer Vision enthusiasts</td>\n",
    "        </tr>\n",
    "        <tr class=\"row-3\">\n",
    "            <td><strong>Why</strong></td>\n",
    "            <td>3</td>\n",
    "            <td>To create appealing/stylized portrait images and share what I've learnt</td>\n",
    "        </tr>\n",
    "        <tr class=\"row-4\">\n",
    "            <td><strong>How</strong></td>\n",
    "            <td>4</td>\n",
    "            <td>Using a Computer Vision to remove image backgrounds</td>\n",
    "        </tr>\n",
    "        <tr class=\"row-5\">\n",
    "            <td><strong>What</strong></td>\n",
    "            <td>5</td>\n",
    "            <td>A notebook, blog and a deployed application</td>\n",
    "        </tr>\n",
    "        <tr class=\"row-6\">\n",
    "            <td><strong>Where</strong></td>\n",
    "            <td>6</td>\n",
    "            <td>Headshot for my personal blog</td>\n",
    "        </tr>\n",
    "    </tbody>\n",
    "</table>"
   ]
  },
  {
   "cell_type": "markdown",
   "metadata": {},
   "source": [
    "The above table representation of our project pillars grounds our project planning to meet both our user requirements (who + why + where) and our developer bandwidth (what + when + how). Amusingly, I like to think of the latter as the developer's **space-time-travel problem**. By now, the value in doing this should be somewhat evident; as developers, every endeavour you undertake should be considered a marathon. While we **can** sprint every so often, we should realize that much of our work should live past our active participation; it's posterity stands a better chance of outliving ours."
   ]
  },
  {
   "cell_type": "markdown",
   "metadata": {},
   "source": [
    "## Project Board\n",
    "\n",
    "With our project statement and criteria, we can now go about creating a **Project Board**. This can take many forms, but in its essence its a visual breakdown of our tasks in a way that is accessible, manipulable and efficient. For my purposes, I typically use a [Kanban board](https://www.atlassian.com/agile/kanban/boards) which is a foundation element of the Kanban visual management method developed by Hirotaka Takeuchi and Ikujiro Nonaka in the “New New Product Development Game.”\n",
    "\n",
    "Just as there are numerous ways one can visualize a project board, there are equally as many tools to implement Kanban boards. You could go with a simple whiteboard with post-its and markers. As a technology worker you could alternatively use a software tool like the novice-friendly [Trello](https://trello.com/) or the expert-tooled [Jira](https://www.atlassian.com/software/jira). While I do have experience with both, my new kanban tool of choice is now Github's [Projects](https://github.com/features/project-management). It's simplicity, ease of use and extensibility make it welcoming to project management up-starts and empowering for experienced old-hats. Below is the Github Project board I created for the subject project."
   ]
  },
  {
   "cell_type": "markdown",
   "metadata": {},
   "source": [
    "![](my_images/github_project.png)"
   ]
  },
  {
   "cell_type": "markdown",
   "metadata": {},
   "source": [
    "The above is only a visual representation; I could very well go with a list-based version as shown below and update it as needed. My recommendation is to go with what works best for you; that should be a function of what you are comfortable with and, again, your project criteria."
   ]
  },
  {
   "cell_type": "markdown",
   "metadata": {},
   "source": [
    "<ol>\n",
    "    <li class=\"project-criteria-task\">Background research on object segmentation\n",
    "        <ul class=\"project-criteria-actions\">\n",
    "            <li>Detail current industry approaches</li>\n",
    "            <li>Itemize and breakdown available industry tools</li>\n",
    "            <li>Select tooling/architecture that meets project criteria</li>\n",
    "        </ul>\n",
    "    </li>\n",
    "    <li class=\"project-criteria-task\">Prototype and evaluate background subtraction techniques\n",
    "        <ul class=\"project-criteria-actions\">\n",
    "            <li>Train a baseline model in the notebook</li>\n",
    "            <li>Test baseline model on personal headshot image</li>\n",
    "            <li>Perform coarse parameter optimisation to improve generated test output</li>\n",
    "        </ul>\n",
    "    </li>\n",
    "    <li class=\"project-criteria-task\">Productionize background subtraction code\n",
    "        <ul class=\"project-criteria-actions\">\n",
    "            <li>Modularize prototyped code and store parameters</li>\n",
    "            <li>Create project repository</li>\n",
    "            <li>Create orchestration/entrypoint file</li>\n",
    "            <li>Document code</li>\n",
    "            <li>Create unit tests</li>\n",
    "        </ul>\n",
    "    </li>\n",
    "    <li class=\"project-criteria-task\">Release background subtraction tooling\n",
    "        <ul class=\"project-criteria-actions\">\n",
    "            <li>Polish project readme with usage instructions</li>\n",
    "            <li>Release blog post on personal blog</li>\n",
    "        </ul>\n",
    "    </li>\n",
    "    <li class=\"project-criteria-task\">Deploy background subtraction code\n",
    "        <ul class=\"project-criteria-actions\">\n",
    "            <li>Identify and evaluate available methods that meet project criteria</li>\n",
    "            <li>Utilize selected deployment method</li>\n",
    "        </ul>\n",
    "    </li>\n",
    "</ol>"
   ]
  },
  {
   "cell_type": "code",
   "execution_count": null,
   "metadata": {},
   "outputs": [],
   "source": []
  },
  {
   "cell_type": "markdown",
   "metadata": {},
   "source": [
    "# Conclusion\n",
    "\n",
    "We have covered the rapid project management framework and applied it to the project [Object Segmentation for Background Subtraction]({% post_url 2020-05-17-background-segmentation %}). Through this we have introduced the following concepts:\n",
    "- **Project Pillars** : A set of 5 questions that serve to center the project author's immediate concerns\n",
    "- **Project Statement** : A short phrase/sentence that describes the author's motivations for attending to the project and abides by the 3 C's (Clarity, Conciseness, Criticality)\n",
    "- **Project Criteria** - A table detailing a description and rank-order of the project pillar\n",
    "- **Project Board** - A visual breakdown of a developers tasks that is accessible, manipulable and efficient\n",
    "\n",
    "In essence, the ethos of the RPM workflow is to promote an early delineation of project tasks for effective execution through accountability. The value in doing so is well established in project management literature. However, while established workflows for medium to large projects and teams exist, the same cannot be said for small variants of the same. The RPM workflow is a living proposal to better serve the needs of smaller project demographics/spectrums."
   ]
  },
  {
   "cell_type": "markdown",
   "metadata": {},
   "source": [
    "## Further Reading\n",
    "- The [Manifesto for Agile Software Development](https://agilemanifesto.org/) lays out agile motivations in very clear and understandable prose; I would highly recommend reading it. \n",
    "- Utilitarianism is a rather dense philosophical topic, but you can start by reading through [this article](https://en.wikipedia.org/wiki/Utilitarianism)"
   ]
  }
 ],
 "metadata": {
  "kernelspec": {
   "display_name": "Python 3",
   "language": "python",
   "name": "python3"
  },
  "language_info": {
   "codemirror_mode": {
    "name": "ipython",
    "version": 3
   },
   "file_extension": ".py",
   "mimetype": "text/x-python",
   "name": "python",
   "nbconvert_exporter": "python",
   "pygments_lexer": "ipython3",
   "version": "3.8.2-final"
  },
  "varInspector": {
   "cols": {
    "lenName": 16,
    "lenType": 16,
    "lenVar": 40
   },
   "kernels_config": {
    "python": {
     "delete_cmd_postfix": "",
     "delete_cmd_prefix": "del ",
     "library": "var_list.py",
     "varRefreshCmd": "print(var_dic_list())"
    },
    "r": {
     "delete_cmd_postfix": ") ",
     "delete_cmd_prefix": "rm(",
     "library": "var_list.r",
     "varRefreshCmd": "cat(var_dic_list()) "
    }
   },
   "types_to_exclude": [
    "module",
    "function",
    "builtin_function_or_method",
    "instance",
    "_Feature"
   ],
   "window_display": false
  }
 },
 "nbformat": 4,
 "nbformat_minor": 4
}
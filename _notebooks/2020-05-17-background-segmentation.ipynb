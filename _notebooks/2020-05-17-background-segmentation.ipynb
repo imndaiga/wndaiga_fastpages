{
 "cells": [
  {
   "cell_type": "markdown",
   "metadata": {},
   "source": [
    "# Using Object Segmentation for Image Background Subtraction\n",
    "> An approach to performing background subtraction in photos using an Image Segmentation Convolution Neural Network.\n",
    "\n",
    "- categories: [jupyter, computer vision, CNN]\n",
    "- hide: true"
   ]
  },
  {
   "cell_type": "markdown",
   "metadata": {},
   "source": [
    "# Introduction\n",
    "\n",
    "## Project Goal\n",
    "\n",
    "When thinking about designing and developing a project, defining a **goal or set of goals** is very important to do and something you want to get right early on. This definition of 'right' varies from person to person and team to team, but for me it boils down to what we shall call the **Project's Pillars**:\n",
    "- **Why** am I building this project and why does it matter?\n",
    "- **Who** am I building this project for and would they care?\n",
    "- **How** will I build this project and how efficiently can this be done?\n",
    "- **Where** will this project be used; is it a physical space, a website e.t.c.?\n",
    "- **What** will be gained from having built this project once complete?\n",
    "- **When** will this project be complete?\n",
    "\n",
    "Actually getting these right is another thing and process entirely, but having them earmarked in good time definitely puts you on the right path. In the case of this particular exploratory project, I was inspired by a very interesting and surmountable problem that I could solve for myself and defined a **Project Statement** to that end. A working definition of the latter is a short phrase/sentence that describes my motivations for attending to the project and will help clarify and rank order my **Project Pillars**. What is this sentence and how do you construct it?"
   ]
  },
  {
   "cell_type": "markdown",
   "metadata": {},
   "source": [
    "> It all starts with having a concise, clear and critical project title!"
   ]
  },
  {
   "cell_type": "markdown",
   "metadata": {},
   "source": [
    "The great thing about a project statement is that it can quickly and effectively resolve your project goals while pointing out a project's gaps and shortcomings too. This latter point is rather important because your trail of recorded thought can then be reviewed and interrogated by others who may come upon your work. If you have scientific training of any sort you might recognize the project statement's basis in **The Hypothesis**!; a cornerstone of modern epistemology where we predetermine our goal of exploration. However, that's a far as the similarities go because a Hypothesis exercises a lot more foundational robustness e.g. *Theory of Falsifiability*.\n",
    "\n",
    "## Project Criteria\n",
    "\n",
    "Resolving our project goals involves descriptively analysing our project statement to better itemise and rank our pillars, the output of which is our **Project Criteria**. Having this can be especially powerful because it allows us to prioritise our work towards meeting both our user requirements and developer bandwidth. If you have worked on a team or client-facing project, I am sure you can relate to scoping issues and overruns arising midway through a project and missing the navigational tooling you need to recover, or worse yet, salvage the situation.\n",
    "\n",
    "> Using Object Segmentation for Image Background Subtraction.\n",
    "\n",
    "Looking at our project statement again, we can now begin to refine our project pillars as follows.\n",
    "\n",
    "\n",
    "| Pillar | Rank | Description |\n",
    "|--------|------|-------------|\n",
    "| **Why** | 3 | To create appealing/stylized portrait images and share what I've learnt |\n",
    "| **Who** | 2 | Data Science bloggers |\n",
    "| **How** | 4 | Using a CNN to remove image backgrounds |\n",
    "| **Where** | 6 | Personal blog |\n",
    "| **What** | 5 | A notebook, blog and deployed CNN model |\n",
    "| **When** | 1 | By the end of the week |"
   ]
  }
 ],
 "metadata": {
  "kernelspec": {
   "display_name": "Python 3",
   "language": "python",
   "name": "python3"
  },
  "language_info": {
   "codemirror_mode": {
    "name": "ipython",
    "version": 3
   },
   "file_extension": ".py",
   "mimetype": "text/x-python",
   "name": "python",
   "nbconvert_exporter": "python",
   "pygments_lexer": "ipython3",
   "version": "3.8.2-final"
  },
  "varInspector": {
   "cols": {
    "lenName": 16,
    "lenType": 16,
    "lenVar": 40
   },
   "kernels_config": {
    "python": {
     "delete_cmd_postfix": "",
     "delete_cmd_prefix": "del ",
     "library": "var_list.py",
     "varRefreshCmd": "print(var_dic_list())"
    },
    "r": {
     "delete_cmd_postfix": ") ",
     "delete_cmd_prefix": "rm(",
     "library": "var_list.r",
     "varRefreshCmd": "cat(var_dic_list()) "
    }
   },
   "types_to_exclude": [
    "module",
    "function",
    "builtin_function_or_method",
    "instance",
    "_Feature"
   ],
   "window_display": false
  }
 },
 "nbformat": 4,
 "nbformat_minor": 4
}